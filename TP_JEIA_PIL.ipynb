{
 "cells": [
  {
   "attachments": {},
   "cell_type": "markdown",
   "id": "5095f45c",
   "metadata": {},
   "source": [
    "# Atelier JEIA - Chiffrement d'images"
   ]
  },
  {
   "attachments": {},
   "cell_type": "markdown",
   "id": "17308860",
   "metadata": {},
   "source": [
    "Pauline PUTEAUX, 08/02/2023"
   ]
  },
  {
   "cell_type": "code",
   "execution_count": 2,
   "id": "04628d5b",
   "metadata": {},
   "outputs": [],
   "source": [
    "# Packages\n",
    "import matplotlib.pyplot as plt\n",
    "from PIL import Image\n",
    "from math import *\n",
    "import random"
   ]
  },
  {
   "attachments": {},
   "cell_type": "markdown",
   "id": "6db2a017",
   "metadata": {},
   "source": [
    "Les échanges d'images représentent aujourd'hui une part importante de l'utilisation d'Internet. Cette tendance va de pair avec des exigences de confidentialité puisque la transmission peut être espionnée sur les canaux publics. Dans ce contexte, il a été proposé de chiffrer les images afin de dissimuler leur contenu et de les rendre visuellement confidentielles pour les utilisateurs non-autorisés. Certaines méthodes de chiffrement ont été spécifiquement conçues pour les images afin de préserver leur format et leur taille et de permettre leur visualisation après chiffrement. \n",
    "\n",
    "Dans cet atelier, nous avons pour objectif d'étudier différentes méthodes de chiffrement d'images. Nous nous intéresserons également à leur sécurité en effectuant des mesures statistiques et en essayant des scénarios d'attaque."
   ]
  },
  {
   "attachments": {},
   "cell_type": "markdown",
   "id": "be4cc75c",
   "metadata": {},
   "source": [
    "### 1 - Chargement d'une image et analyse"
   ]
  },
  {
   "attachments": {},
   "cell_type": "markdown",
   "id": "2d37b6db",
   "metadata": {},
   "source": [
    "a) Ouvrir une image en niveaux de gris et l'afficher."
   ]
  },
  {
   "cell_type": "code",
   "execution_count": 62,
   "id": "b17f4eef",
   "metadata": {},
   "outputs": [],
   "source": [
    "def ouvrirImageGris(cheminImage):\n",
    "    image = Image.open(cheminImage).convert('L')\n",
    "    return image\n",
    "\n",
    "def afficherImage(image):\n",
    "    image.show()\n",
    "\n",
    "cheminImage = \"koulkoul.png\" # à compléter avec votre image\n",
    "image = ouvrirImageGris(cheminImage)\n",
    "afficherImage(image)"
   ]
  },
  {
   "attachments": {},
   "cell_type": "markdown",
   "id": "bfc37fb9",
   "metadata": {},
   "source": [
    "b) Afficher les dimensions de l'image."
   ]
  },
  {
   "cell_type": "code",
   "execution_count": 63,
   "id": "4a8480aa",
   "metadata": {},
   "outputs": [
    {
     "name": "stdout",
     "output_type": "stream",
     "text": [
      "Les dimensions de l'image sont :  (2454, 2250)\n"
     ]
    }
   ],
   "source": [
    "tailleImage = image.size\n",
    "print(\"Les dimensions de l'image sont : \", tailleImage)"
   ]
  },
  {
   "attachments": {},
   "cell_type": "markdown",
   "id": "6809d41e",
   "metadata": {},
   "source": [
    "c) Ecrire une fonction pour afficher l'histogramme d'une image."
   ]
  },
  {
   "cell_type": "code",
   "execution_count": 64,
   "id": "468a1c39",
   "metadata": {},
   "outputs": [
    {
     "data": {
      "image/png": "[encoded data removed]",
      "text/plain": [
       "<Figure size 640x480 with 1 Axes>"
      ]
     },
     "metadata": {},
     "output_type": "display_data"
    }
   ],
   "source": [
    "def calculHistogramme(image):\n",
    "    return image.histogram()\n",
    "\n",
    "def afficherHistogramme(histogrammeImage):\n",
    "    plt.bar(range(len(histogrammeImage)), histogrammeImage)\n",
    "\n",
    "histogrammeImage = calculHistogramme(image)\n",
    "afficherHistogramme(histogrammeImage)"
   ]
  },
  {
   "attachments": {},
   "cell_type": "markdown",
   "id": "e224c1a8",
   "metadata": {},
   "source": [
    "d) Ecrire une fonction pour calculer l'entropie d'une image. "
   ]
  },
  {
   "cell_type": "code",
   "execution_count": 66,
   "id": "d63c4287",
   "metadata": {},
   "outputs": [
    {
     "name": "stdout",
     "output_type": "stream",
     "text": [
      "L'entropie de l'image est de :  7.563607214694457 bits par pixel (bpp).\n"
     ]
    }
   ],
   "source": [
    "def entropieImage(histogrammeImage):\n",
    "    nbPixels = sum(histogrammeImage)\n",
    "    entropie = 0\n",
    "    for val in histogrammeImage:\n",
    "        if val != 0:\n",
    "            entropie += (val/nbPixels) * log2(val/nbPixels)\n",
    "    return (-1) * entropie\n",
    "\n",
    "\n",
    "entropie = entropieImage(histogrammeImage)\n",
    "print(\"L'entropie de l'image est de : \", entropie, \"bits par pixel (bpp).\")"
   ]
  },
  {
   "attachments": {},
   "cell_type": "markdown",
   "id": "64f4b9ef",
   "metadata": {},
   "source": [
    "e) Ecrire une fonction pour calculer le PSNR entre deux images."
   ]
  },
  {
   "cell_type": "code",
   "execution_count": 67,
   "id": "ce2e3e73",
   "metadata": {},
   "outputs": [],
   "source": [
    "def erreurQuadratiqueMoyenne(image1, image2):\n",
    "    somme = 0\n",
    "    for i in range(image1.size[0]):\n",
    "        for j in range(image1.size[1]):\n",
    "            difference = image1.getpixel((i,j)) - image2.getpixel((i,j))\n",
    "            carreDifference = difference ** 2\n",
    "            somme += carreDifference\n",
    "    return somme / (image1.size[0] * image1.size[1])\n",
    "\n",
    "def psnr(image1, image2):\n",
    "    erreur = erreurQuadratiqueMoyenne(image1, image2)\n",
    "    if erreur == 0:\n",
    "        return \"inf\"\n",
    "    return 10 * log10((255 ** 2) / erreur)"
   ]
  },
  {
   "attachments": {},
   "cell_type": "markdown",
   "id": "4f87b812",
   "metadata": {},
   "source": [
    "#### Fonctions auxiliaires utiles pour la suite"
   ]
  },
  {
   "cell_type": "code",
   "execution_count": 68,
   "id": "5c8e0f8e",
   "metadata": {},
   "outputs": [],
   "source": [
    "def image2Dto1D(image):\n",
    "    listePixels = []\n",
    "    for i in range(image.size[0]):\n",
    "        for j in range(image.size[1]):\n",
    "            listePixels.append(image.getpixel((i,j)))\n",
    "    return listePixels\n",
    "\n",
    "def image1Dto2D(listePixels, tailleImage):\n",
    "    image = Image.new('L', tailleImage)\n",
    "    k = 0\n",
    "    for i in range(tailleImage[0]):\n",
    "        for j in range(tailleImage[1]):\n",
    "            image.putpixel((i,j), listePixels[k])\n",
    "            k += 1\n",
    "    return image"
   ]
  },
  {
   "attachments": {},
   "cell_type": "markdown",
   "id": "4d23ccb3",
   "metadata": {},
   "source": [
    "### 2 - Chiffrement par permutation"
   ]
  },
  {
   "attachments": {},
   "cell_type": "markdown",
   "id": "08b9fb8d",
   "metadata": {},
   "source": [
    "a) Ecrire une fonction qui prend en entrée un nombre $n$ et une clé $k$, crée une liste $[0,n-1]$ et retourne la liste mélangée en utilisant $k$ en tant que graine d'initialisation."
   ]
  },
  {
   "cell_type": "code",
   "execution_count": 69,
   "id": "5acd4899",
   "metadata": {},
   "outputs": [
    {
     "name": "stdout",
     "output_type": "stream",
     "text": [
      "[3, 0, 2, 1]\n"
     ]
    }
   ],
   "source": [
    "def melangeIndices(n, k):\n",
    "    indices = list(range(n))\n",
    "    random.seed(k)\n",
    "    random.shuffle(indices)\n",
    "    return indices\n",
    "\n",
    "n = 4 # tester plusieurs paramètres\n",
    "k = 3 # tester plusieurs paramètres\n",
    "indicesMelanges = melangeIndices(n, k)\n",
    "print(indicesMelanges)"
   ]
  },
  {
   "attachments": {},
   "cell_type": "markdown",
   "id": "fd9a4c47",
   "metadata": {},
   "source": [
    "b) Ecrire une fonction pour mélanger les pixels d'une image."
   ]
  },
  {
   "cell_type": "code",
   "execution_count": 70,
   "id": "21963157",
   "metadata": {},
   "outputs": [],
   "source": [
    "def melangeImage(image, k):\n",
    "    # passage de la 2D à la 1D\n",
    "    listePixels = image2Dto1D(image)\n",
    "\n",
    "    # calcul du nombre de pixels \n",
    "    n = len(listePixels)\n",
    "\n",
    "    # generation de la liste d'indices melangés\n",
    "    indicesMelanges = melangeIndices(n, k)\n",
    "\n",
    "    # initialisation de l'image chiffrée en 1D\n",
    "    listePixelsChiffres = [0] * n\n",
    "\n",
    "    # melange des pixels de l'image originale en utilisant la liste des indices melanges\n",
    "    for i in range(n):\n",
    "        nouvelIndice = indicesMelanges[i]\n",
    "        listePixelsChiffres[i] = listePixels[nouvelIndice]\n",
    "\n",
    "    # passage de la 1D à la 2D\n",
    "    imageChiffree = image1Dto2D(listePixelsChiffres, image.size)\n",
    "\n",
    "    return imageChiffree\n",
    "    \n",
    "\n",
    "k = 3 # la valeur de la clé peut être modifiée\n",
    "imageChiffree1 = melangeImage(image, k)\n",
    "afficherImage(imageChiffree1)\n"
   ]
  },
  {
   "attachments": {},
   "cell_type": "markdown",
   "id": "9a19933d",
   "metadata": {},
   "source": [
    "c) Afficher l'histogramme et calculer l'entropie de l'image ainsi chiffrée. Que constatez-vous ?"
   ]
  },
  {
   "cell_type": "code",
   "execution_count": 47,
   "id": "61bda5dd",
   "metadata": {},
   "outputs": [
    {
     "name": "stdout",
     "output_type": "stream",
     "text": [
      "L'entropie de l'image est de :  7.563607214694457 bits par pixel (bpp).\n"
     ]
    },
    {
     "data": {
      "image/png": "[encoded data removed]",
      "text/plain": [
       "<Figure size 640x480 with 1 Axes>"
      ]
     },
     "metadata": {},
     "output_type": "display_data"
    }
   ],
   "source": [
    "histogrammeImageChiffree1 = calculHistogramme(imageChiffree1)\n",
    "afficherHistogramme(histogrammeImageChiffree1)\n",
    "\n",
    "entropieImageChiffree1 = entropieImage(histogrammeImageChiffree1)\n",
    "print(\"L'entropie de l'image est de : \", entropieImageChiffree1, \"bits par pixel (bpp).\")"
   ]
  },
  {
   "attachments": {},
   "cell_type": "markdown",
   "id": "5c1814ff",
   "metadata": {},
   "source": [
    "d) Ecrire une fonction pour \"démélanger\" les pixels de l'image."
   ]
  },
  {
   "cell_type": "code",
   "execution_count": 72,
   "id": "1bdee689",
   "metadata": {},
   "outputs": [],
   "source": [
    "def demelangeImage(imageChiffree, k):\n",
    "    # passage de la 2D à la 1D\n",
    "    listePixelsChiffres = image2Dto1D(imageChiffree)\n",
    "\n",
    "    # calcul du nombre de pixels \n",
    "    n = len(listePixelsChiffres)\n",
    "\n",
    "    # generation de la liste d'indices melangés\n",
    "    indicesMelanges = melangeIndices(n, k)\n",
    "\n",
    "    # initialisation de l'image déchiffrée en 1D\n",
    "    listePixelsDechiffres = [0] * n\n",
    "\n",
    "    # melange des pixels de l'image originale en utilisant la liste des indices melanges\n",
    "    for i in range(n):\n",
    "        nouvelIndice = indicesMelanges[i]\n",
    "        listePixelsDechiffres[nouvelIndice] = listePixelsChiffres[i]\n",
    "\n",
    "    # passage de la 1D à la 2D\n",
    "    imageDechiffree = image1Dto2D(listePixelsDechiffres, imageChiffree.size)\n",
    "\n",
    "    return imageDechiffree\n",
    "    \n",
    "\n",
    "k = 3 # la valeur de la clé peut être modifiée\n",
    "imageDechiffree1 = demelangeImage(imageChiffree1, k)\n",
    "afficherImage(imageDechiffree1)"
   ]
  },
  {
   "attachments": {},
   "cell_type": "markdown",
   "id": "ce4f6f48",
   "metadata": {},
   "source": [
    "e) Vérifier que l'image originale est bien reconstruite sans perte à l'aide du PSNR."
   ]
  },
  {
   "cell_type": "code",
   "execution_count": 73,
   "id": "a726d9ba",
   "metadata": {},
   "outputs": [
    {
     "name": "stdout",
     "output_type": "stream",
     "text": [
      "Le PSNR entre les deux images est de inf dB.\n"
     ]
    }
   ],
   "source": [
    "psnr1 = psnr(image, imageDechiffree1)\n",
    "print(\"Le PSNR entre les deux images est de\", psnr1, \"dB.\")"
   ]
  },
  {
   "attachments": {},
   "cell_type": "markdown",
   "id": "0b2bb7f8",
   "metadata": {},
   "source": [
    "### 3 - Chiffrement par substitution"
   ]
  },
  {
   "attachments": {},
   "cell_type": "markdown",
   "id": "42e79b6f",
   "metadata": {},
   "source": [
    "a) Ecrire une fonction qui prend en entrée un nombre $n$ et une clé $k$ et génère une séquence pseudo-aléatoire de pixels (valeurs entre $0$ et $255$) en utilisant la clé comme graine d'initialisation."
   ]
  },
  {
   "cell_type": "code",
   "execution_count": 50,
   "id": "b0981c70",
   "metadata": {},
   "outputs": [
    {
     "name": "stdout",
     "output_type": "stream",
     "text": [
      "[16, 219, 247, 7, 105, 236, 251, 142, 82, 17, 250, 167, 38, 127, 184, 22, 215, 71, 181, 195, 215, 145, 134, 233, 89, 155, 185, 68, 233, 122, 225, 192, 22, 2, 120, 68, 99, 155, 187, 122, 160, 230, 223, 240, 33, 166, 80, 114, 211, 122, 18, 16, 254, 154, 36, 41, 76, 196, 191, 76, 57, 49, 226, 85, 97, 178, 221, 212, 228, 125, 140, 73, 91, 61, 136, 233, 154, 84, 89, 90, 245, 177, 167, 222, 114, 2, 22, 169, 163, 124, 40, 134, 229, 207, 81, 199, 253, 123, 139, 247]\n"
     ]
    }
   ],
   "source": [
    "def generationPseudoAleatoire(n, k):\n",
    "    random.seed(k)\n",
    "    seq = [] \n",
    "    for i in range(n):\n",
    "        seq.append(random.randint(0, 255))\n",
    "    return seq\n",
    "\n",
    "n = 100  # le nombre de valeurs générées peut être modifié\n",
    "k = 10  # la valeur de la clé peut être modifiée\n",
    "octetsAleatoires = generationPseudoAleatoire(n, k)\n",
    "print(octetsAleatoires)"
   ]
  },
  {
   "attachments": {},
   "cell_type": "markdown",
   "id": "c368fd0c",
   "metadata": {},
   "source": [
    "b) En utilisant la fonction précédente, écrire une méthode de chiffrement basée sur l'utilisation du ou-exclusif."
   ]
  },
  {
   "cell_type": "code",
   "execution_count": 51,
   "id": "21eb26d1",
   "metadata": {},
   "outputs": [],
   "source": [
    "def substitutionImage(image, k):\n",
    "    # passage de la 2D à la 1D\n",
    "    listePixels = image2Dto1D(image)\n",
    "\n",
    "    # calcul du nombre de pixels \n",
    "    n = len(listePixels)\n",
    "\n",
    "    # generation de la liste d'octets pseudo-aléatoires\n",
    "    octetsAleatoires = generationPseudoAleatoire(n, k)\n",
    "\n",
    "    # initialisation de l'image chiffrée en 1D\n",
    "    listePixelsChiffres = [0] * n\n",
    "\n",
    "    # substitution des pixels de l'image originale en utilisant l'opérateur ou-exclusif (XOR)\n",
    "    for i in range(n):\n",
    "        listePixelsChiffres[i] = listePixels[i] ^ octetsAleatoires[i]\n",
    "\n",
    "    # passage de la 1D à la 2D\n",
    "    imageChiffree = image1Dto2D(listePixelsChiffres, image.size)\n",
    "\n",
    "    return imageChiffree\n",
    "\n",
    "k = 3\n",
    "imageChiffree2 = substitutionImage(image, k)\n",
    "afficherImage(imageChiffree2)"
   ]
  },
  {
   "attachments": {},
   "cell_type": "markdown",
   "id": "9699a32a",
   "metadata": {},
   "source": [
    "c) Afficher l'histogramme et calculer l'entropie de l'image ainsi chiffrée. Que constatez-vous ?"
   ]
  },
  {
   "cell_type": "code",
   "execution_count": 52,
   "id": "33659fe6",
   "metadata": {},
   "outputs": [
    {
     "name": "stdout",
     "output_type": "stream",
     "text": [
      "L'entropie de l'image est de :  7.999968165098478 bits par pixel (bpp).\n"
     ]
    },
    {
     "data": {
      "image/png": "[encoded data removed]",
      "text/plain": [
       "<Figure size 640x480 with 1 Axes>"
      ]
     },
     "metadata": {},
     "output_type": "display_data"
    }
   ],
   "source": [
    "histogrammeImageChiffree2 = calculHistogramme(imageChiffree2)\n",
    "afficherHistogramme(histogrammeImageChiffree2)\n",
    "\n",
    "entropieImageChiffree2 = entropieImage(histogrammeImageChiffree2)\n",
    "print(\"L'entropie de l'image est de : \", entropieImageChiffree2, \"bits par pixel (bpp).\")"
   ]
  },
  {
   "attachments": {},
   "cell_type": "markdown",
   "id": "241e917f",
   "metadata": {},
   "source": [
    "d) L'opération ou-exclusif étant symétrique, vérifier que l'image originale est reconstruite en réappliquant la fonction de chiffrement. "
   ]
  },
  {
   "cell_type": "code",
   "execution_count": 54,
   "id": "edd851e5",
   "metadata": {},
   "outputs": [
    {
     "name": "stdout",
     "output_type": "stream",
     "text": [
      "Le PSNR entre les deux images est de inf dB.\n"
     ]
    }
   ],
   "source": [
    "k = 3\n",
    "imageDechiffree2 = substitutionImage(imageChiffree2, k)\n",
    "afficherImage(imageDechiffree2)\n",
    "\n",
    "psnr2 = psnr(image, imageDechiffree2)\n",
    "print(\"Le PSNR entre les deux images est de\", psnr2, \"dB.\")"
   ]
  },
  {
   "attachments": {},
   "cell_type": "markdown",
   "id": "f36bf28c",
   "metadata": {},
   "source": [
    "### 4 - Chiffrement sélectif par plan binaire"
   ]
  },
  {
   "attachments": {},
   "cell_type": "markdown",
   "id": "26501fe1",
   "metadata": {},
   "source": [
    "Utiliser la fonction ci-dessous en faisant varier l'emplacement du plan binaire chiffré."
   ]
  },
  {
   "cell_type": "code",
   "execution_count": 55,
   "id": "e0599277",
   "metadata": {},
   "outputs": [],
   "source": [
    "def substitionPlanBinaire(image, indicePlan, k):\n",
    "    # passage de la 2D à la 1D\n",
    "    listePixels = image2Dto1D(image)\n",
    "\n",
    "    # calcul du nombre de pixels \n",
    "    n = len(listePixels)\n",
    "\n",
    "    # initialisation du générateur pseudo-aléatoire\n",
    "    random.seed(k)\n",
    "\n",
    "    # initialisation de l'image chiffrée en 1D\n",
    "    listePixelsChiffres = [0] * n\n",
    "\n",
    "    for i in range(n):\n",
    "        # génération d'un bit (0 ou 1) et décalage à gauche\n",
    "        bitAleatoire = random.randint(0, 1) << (7 - indicePlan)\n",
    "        # opération ou-exclusif\n",
    "        listePixelsChiffres[i] = listePixels[i] ^ bitAleatoire\n",
    "\n",
    "    # passage de la 1D à la 2D\n",
    "    imageChiffreeSelectivement = image1Dto2D(listePixelsChiffres, image.size)\n",
    "\n",
    "    return imageChiffreeSelectivement\n",
    "    "
   ]
  },
  {
   "attachments": {},
   "cell_type": "markdown",
   "id": "f3217999",
   "metadata": {},
   "source": [
    "Chiffrement du plan binaire le plus significatif (MSB)"
   ]
  },
  {
   "cell_type": "code",
   "execution_count": 60,
   "id": "2bf22101",
   "metadata": {},
   "outputs": [
    {
     "name": "stdout",
     "output_type": "stream",
     "text": [
      "Le PSNR entre les deux images est de 8.996547092602091 dB.\n"
     ]
    }
   ],
   "source": [
    "k = 3\n",
    "imageChiffreeMSB = substitionPlanBinaire(image, 0, k)\n",
    "afficherImage(imageChiffreeMSB)\n",
    "\n",
    "psnrMSB = psnr(image, imageChiffreeMSB)\n",
    "print(\"Le PSNR entre les deux images est de\", psnrMSB, \"dB.\")"
   ]
  },
  {
   "attachments": {},
   "cell_type": "markdown",
   "id": "8f11c451",
   "metadata": {},
   "source": [
    "Chiffrement du plan binaire le moins significatif (LSB)"
   ]
  },
  {
   "cell_type": "code",
   "execution_count": 61,
   "id": "17959ed9",
   "metadata": {},
   "outputs": [
    {
     "name": "stdout",
     "output_type": "stream",
     "text": [
      "Le PSNR entre les deux images est de 51.140746485559454 dB.\n"
     ]
    }
   ],
   "source": [
    "k = 3\n",
    "imageChiffreeLSB = substitionPlanBinaire(image, 7, k)\n",
    "afficherImage(imageChiffreeLSB)\n",
    "\n",
    "psnrLSB = psnr(image, imageChiffreeLSB)\n",
    "print(\"Le PSNR entre les deux images est de\", psnrLSB, \"dB.\")"
   ]
  }
 ],
 "metadata": {
  "kernelspec": {
   "display_name": "snt_nsi",
   "language": "python",
   "name": "python3"
  },
  "language_info": {
   "codemirror_mode": {
    "name": "ipython",
    "version": 3
   },
   "file_extension": ".py",
   "mimetype": "text/x-python",
   "name": "python",
   "nbconvert_exporter": "python",
   "pygments_lexer": "ipython3",
   "version": "3.9.16"
  },
  "vscode": {
   "interpreter": {
    "hash": "775bec7d40a035e98e055be6209d6bfc7d70b347c7ad1914f782e1071d973a9c"
   }
  }
 },
 "nbformat": 4,
 "nbformat_minor": 5
}
