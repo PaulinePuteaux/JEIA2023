{
 "cells": [
  {
   "attachments": {},
   "cell_type": "markdown",
   "id": "5095f45c",
   "metadata": {},
   "source": [
    "# Atelier JEIA - Chiffrement d'images"
   ]
  },
  {
   "attachments": {},
   "cell_type": "markdown",
   "id": "17308860",
   "metadata": {},
   "source": [
    "Pauline PUTEAUX, 08/02/2023"
   ]
  },
  {
   "cell_type": "code",
   "execution_count": null,
   "id": "04628d5b",
   "metadata": {},
   "outputs": [],
   "source": [
    "# Packages\n",
    "import numpy as np\n",
    "import matplotlib.pyplot as plt\n",
    "import skimage\n",
    "from math import *\n",
    "import random"
   ]
  },
  {
   "attachments": {},
   "cell_type": "markdown",
   "id": "6db2a017",
   "metadata": {},
   "source": [
    "Les échanges d'images représentent aujourd'hui une part importante de l'utilisation d'Internet. Cette tendance va de pair avec des exigences de confidentialité puisque la transmission peut être espionnée sur les canaux publics. Dans ce contexte, il a été proposé de chiffrer les images afin de dissimuler leur contenu et de les rendre visuellement confidentielles pour les utilisateurs non-autorisés. Certaines méthodes de chiffrement ont été spécifiquement conçues pour les images afin de préserver leur format et leur taille et de permettre leur visualisation après chiffrement. \n",
    "\n",
    "Dans cet atelier, nous avons pour objectif d'étudier différentes méthodes de chiffrement d'images. Nous nous intéresserons également à leur sécurité en effectuant des mesures statistiques et en essayant des scénarios d'attaque."
   ]
  },
  {
   "attachments": {},
   "cell_type": "markdown",
   "id": "be4cc75c",
   "metadata": {},
   "source": [
    "### 1 - Chargement d'une image et analyse"
   ]
  },
  {
   "attachments": {},
   "cell_type": "markdown",
   "id": "2d37b6db",
   "metadata": {},
   "source": [
    "a) Ouvrir une image en niveaux de gris et l'afficher."
   ]
  },
  {
   "cell_type": "code",
   "execution_count": null,
   "id": "b17f4eef",
   "metadata": {},
   "outputs": [],
   "source": [
    "def openImage(fname):\n",
    "    dataImage = skimage.io.imread(fname, as_gray=True)\n",
    "    dataImage = skimage.util.img_as_ubyte(dataImage)\n",
    "    skimage.io.imshow(dataImage)\n",
    "    return dataImage\n",
    "\n",
    "fname = \"...\" # à compléter avec votre image\n",
    "dataImage = openImage(fname)"
   ]
  },
  {
   "attachments": {},
   "cell_type": "markdown",
   "id": "bfc37fb9",
   "metadata": {},
   "source": [
    "b) Afficher les dimensions de l'image."
   ]
  },
  {
   "cell_type": "code",
   "execution_count": null,
   "id": "4a8480aa",
   "metadata": {},
   "outputs": [],
   "source": [
    "imSize = dataImage.shape\n",
    "print(\"Les dimensions de l'image sont : \", imSize)"
   ]
  },
  {
   "attachments": {},
   "cell_type": "markdown",
   "id": "6809d41e",
   "metadata": {},
   "source": [
    "c) Ecrire une fonction pour afficher l'histogramme d'une image."
   ]
  },
  {
   "cell_type": "code",
   "execution_count": null,
   "id": "468a1c39",
   "metadata": {},
   "outputs": [],
   "source": [
    "def plotHist(dataImage):\n",
    "    hist = skimage.exposure.histogram(dataImage)\n",
    "    plt.bar(hist[1], hist[0])\n",
    "    return hist\n",
    "\n",
    "hist = plotHist(dataImage)"
   ]
  },
  {
   "attachments": {},
   "cell_type": "markdown",
   "id": "e224c1a8",
   "metadata": {},
   "source": [
    "d) Ecrire une fonction pour calculer l'entropie d'une image. "
   ]
  },
  {
   "cell_type": "code",
   "execution_count": null,
   "id": "d63c4287",
   "metadata": {},
   "outputs": [],
   "source": [
    "def entropy(hist):\n",
    "    proba = hist[0]/np.sum(hist[0])\n",
    "    h = 0\n",
    "    for p in proba:\n",
    "        if p != 0:\n",
    "            h += p * log2(p)\n",
    "    return (-1) * h\n",
    "\n",
    "\n",
    "h = entropy(hist)\n",
    "print(\"L'entropie de l'image est de : \", h, \"bpp.\")"
   ]
  },
  {
   "attachments": {},
   "cell_type": "markdown",
   "id": "64f4b9ef",
   "metadata": {},
   "source": [
    "e) Ecrire une fonction pour calculer le PSNR et le SSIM entre deux images."
   ]
  },
  {
   "cell_type": "code",
   "execution_count": null,
   "id": "ce2e3e73",
   "metadata": {},
   "outputs": [],
   "source": [
    "def psnr(im1, im2):\n",
    "    return skimage.metrics.peak_signal_noise_ratio(im1, im2)\n",
    "    \n",
    "def ssim(im1, im2):\n",
    "    return skimage.metrics.structural_similarity(im1, im2)"
   ]
  },
  {
   "attachments": {},
   "cell_type": "markdown",
   "id": "5ed23169",
   "metadata": {},
   "source": [
    "#### Fonctions auxiliaires utiles pour la suite"
   ]
  },
  {
   "cell_type": "code",
   "execution_count": null,
   "id": "e88771b3",
   "metadata": {},
   "outputs": [],
   "source": [
    "def img2Dto1D(data2D):\n",
    "    return data2D.flatten()\n",
    "\n",
    "def img1Dto2D(data1D, imSize):\n",
    "    return data1D.reshape(imSize)"
   ]
  },
  {
   "attachments": {},
   "cell_type": "markdown",
   "id": "4d23ccb3",
   "metadata": {},
   "source": [
    "### 2 - Chiffrement par permutation"
   ]
  },
  {
   "attachments": {},
   "cell_type": "markdown",
   "id": "08b9fb8d",
   "metadata": {},
   "source": [
    "a) Ecrire une fonction qui prend en entrée un nombre $n$ et une clé $k$, crée une liste $[0,n-1]$ et retourne la liste mélangée en utilisant $k$ en tant que graine d'initialisation."
   ]
  },
  {
   "cell_type": "code",
   "execution_count": null,
   "id": "5acd4899",
   "metadata": {},
   "outputs": [],
   "source": [
    "def scrambledList(n, k):\n",
    "    ind = np.arange(n)\n",
    "    random.seed(k)\n",
    "    random.shuffle(ind)\n",
    "    return ind\n",
    "\n",
    "n = ... # tester plusieurs paramètres\n",
    "k = ... # tester plusieurs paramètres\n",
    "ind = scrambledList(n, k)\n",
    "print(ind)"
   ]
  },
  {
   "attachments": {},
   "cell_type": "markdown",
   "id": "fd9a4c47",
   "metadata": {},
   "source": [
    "b) Ecrire une fonction pour mélanger les pixels d'une image."
   ]
  },
  {
   "cell_type": "code",
   "execution_count": null,
   "id": "21963157",
   "metadata": {},
   "outputs": [],
   "source": [
    "def scrambledImage(dataImage, k):\n",
    "    # passage de la 2D à la 1D\n",
    "    imSize = dataImage.shape\n",
    "    dataImage1D = img2Dto1D(dataImage)\n",
    "    n = len(dataImage1D)\n",
    "\n",
    "    # initialisation de l'image chiffrée\n",
    "    dataImageEncrypted = np.zeros(n, dtype = np.uint8)\n",
    "\n",
    "    # TODO partie à compléter\n",
    "\n",
    "    # passage de la 1D à la 2D\n",
    "    dataImageEncrypted = img1Dto2D(dataImageEncrypted, imSize)\n",
    "    return dataImageEncrypted\n",
    "    \n",
    "\n",
    "k = 3 # la valeur de la clé peut être modifiée\n",
    "dataImageEncrypted = scrambledImage(dataImage, k)\n",
    "skimage.io.imshow(dataImageEncrypted)\n"
   ]
  },
  {
   "attachments": {},
   "cell_type": "markdown",
   "id": "9a19933d",
   "metadata": {},
   "source": [
    "c) Afficher l'histogramme et calculer l'entropie de l'image ainsi chiffrée. Que constatez-vous ?"
   ]
  },
  {
   "cell_type": "code",
   "execution_count": null,
   "id": "61bda5dd",
   "metadata": {},
   "outputs": [],
   "source": [
    "# TODO reprendre et utiliser les fonctions "
   ]
  },
  {
   "attachments": {},
   "cell_type": "markdown",
   "id": "5c1814ff",
   "metadata": {},
   "source": [
    "d) Ecrire une fonction pour \"démélanger\" les pixels de l'image."
   ]
  },
  {
   "cell_type": "code",
   "execution_count": null,
   "id": "1bdee689",
   "metadata": {},
   "outputs": [],
   "source": [
    "def descrambledImage(dataImageEncrypted, k):\n",
    "    # passage de la 2D à la 1D\n",
    "    imSize = dataImageEncrypted.shape\n",
    "    dataImage1D = img2Dto1D(dataImageEncrypted)\n",
    "    n = len(dataImage1D)\n",
    "\n",
    "    # initialisation de l'image déchiffrée\n",
    "    dataImageDecrypted = np.zeros(n, dtype = np.uint8)\n",
    "  \n",
    "   # TODO partie à compléter\n",
    "\n",
    "    # passage de la 1D à la 2D\n",
    "    dataImageDecrypted = img1Dto2D(dataImageDecrypted, imSize)\n",
    "    return dataImageDecrypted\n",
    "\n",
    "k = 3\n",
    "dataImageDecrypted = descrambledImage(dataImageEncrypted, k)\n",
    "skimage.io.imshow(dataImageDecrypted)"
   ]
  },
  {
   "attachments": {},
   "cell_type": "markdown",
   "id": "ce4f6f48",
   "metadata": {},
   "source": [
    "e) Vérifier que l'image originale est bien reconstruite sans perte à l'aide du PSNR et du SSIM."
   ]
  },
  {
   "cell_type": "code",
   "execution_count": null,
   "id": "a726d9ba",
   "metadata": {},
   "outputs": [],
   "source": [
    "psnr = psnr(dataImage, dataImageDecrypted)\n",
    "ssim = ssim(dataImage, dataImageDecrypted)\n",
    "print(\"Le PSNR entre les deux images est de\", psnr, \"dB et le SSIM est de\", ssim)"
   ]
  },
  {
   "attachments": {},
   "cell_type": "markdown",
   "id": "0b2bb7f8",
   "metadata": {},
   "source": [
    "### 3 - Chiffrement par substitution"
   ]
  },
  {
   "attachments": {},
   "cell_type": "markdown",
   "id": "42e79b6f",
   "metadata": {},
   "source": [
    "a) Ecrire une fonction qui prend en entrée un nombre $n$ et une clé $k$ et génère une séquence pseudo-aléatoire de pixels (valeurs entre $0$ et $255$) en utilisant la clé comme graine d'initialisation."
   ]
  },
  {
   "cell_type": "code",
   "execution_count": null,
   "id": "b0981c70",
   "metadata": {},
   "outputs": [],
   "source": [
    "def randSeq(n, k):\n",
    "    random.seed(k)\n",
    "    seq = [] \n",
    "    for i in range(n):\n",
    "        seq.append(random.randint(0, 255))\n",
    "    return seq\n",
    "\n",
    "n = 100  # le nombre de valeurs générées peut être modifié\n",
    "k = 10  # la valeur de la clé peut être modifiée\n",
    "seq = randSeq(n, k)\n",
    "print(seq)"
   ]
  },
  {
   "attachments": {},
   "cell_type": "markdown",
   "id": "c368fd0c",
   "metadata": {},
   "source": [
    "b) En utilisant la fonction précédente, écrire une méthode de chiffrement basée sur l'utilisation du ou-exclusif."
   ]
  },
  {
   "cell_type": "code",
   "execution_count": null,
   "id": "21eb26d1",
   "metadata": {},
   "outputs": [],
   "source": [
    "def xorEncryption(dataImage, k):\n",
    "    # passage de la 2D à la 1D\n",
    "    imSize = dataImage.shape\n",
    "    dataImage1D = img2Dto1D(dataImage)\n",
    "    n = len(dataImage1D)\n",
    "\n",
    "    # initialisation de l'image chiffrée\n",
    "    dataImageEncrypted = np.zeros(n, dtype = np.uint8)\n",
    "    \n",
    "    # TODO partie à compléter\n",
    "    \n",
    "    # passage de la 1D à la 2D\n",
    "    dataImageEncrypted = img1Dto2D(dataImageEncrypted, imSize)\n",
    "    return dataImageEncrypted\n",
    "\n",
    "k = 3\n",
    "dataImageEncrypted = xorEncryption(dataImage, k)\n",
    "skimage.io.imshow(dataImageEncrypted)"
   ]
  },
  {
   "attachments": {},
   "cell_type": "markdown",
   "id": "9699a32a",
   "metadata": {},
   "source": [
    "c) Afficher l'histogramme et calculer l'entropie de l'image ainsi chiffrée. Que constatez-vous ?"
   ]
  },
  {
   "cell_type": "code",
   "execution_count": null,
   "id": "33659fe6",
   "metadata": {},
   "outputs": [],
   "source": [
    "# TODO reprendre et utiliser les fonctions "
   ]
  },
  {
   "attachments": {},
   "cell_type": "markdown",
   "id": "241e917f",
   "metadata": {},
   "source": [
    "d) L'opération ou-exclusif étant symétrique, vérifier que l'image originale est reconstruite en réappliquant la fonction de chiffrement. "
   ]
  },
  {
   "cell_type": "code",
   "execution_count": null,
   "id": "edd851e5",
   "metadata": {},
   "outputs": [],
   "source": [
    "# TODO reprendre et utiliser les fonctions "
   ]
  },
  {
   "attachments": {},
   "cell_type": "markdown",
   "id": "f36bf28c",
   "metadata": {},
   "source": [
    "### 4 - Chiffrement sélectif par plan binaire"
   ]
  },
  {
   "attachments": {},
   "cell_type": "markdown",
   "id": "26501fe1",
   "metadata": {},
   "source": [
    "Utiliser la fonction ci-dessous en faisant varier les plans binaires chiffrés (nombre et emplacement). \n",
    "Remarque : fonction volontairement masquée (pour ceux qui souhaiteraient s'exercer !)."
   ]
  },
  {
   "cell_type": "code",
   "execution_count": null,
   "id": "e0599277",
   "metadata": {},
   "outputs": [],
   "source": [
    "def bitplaneEncryption(dataImage, indBitplane, k):\n",
    "    # passage de la 2D à la 1D\n",
    "    imSize = dataImage.shape\n",
    "    dataImage1D = img2Dto1D(dataImage)\n",
    "    n = len(dataImage1D)\n",
    "\n",
    "    # initialisation de l'image chiffrée\n",
    "    dataImageEncrypted = np.zeros(n, dtype = np.uint8)\n",
    "\n",
    "    # initialisation de la séquence aléatoire\n",
    "    random.seed(k)\n",
    "    for i in range(n):\n",
    "        # génération d'un bit (0 ou 1) et décalage à gauche\n",
    "        r = random.randint(0, 1) << (7 - indBitplane)\n",
    "        # opération ou-exclusif\n",
    "        dataImageEncrypted[i] = dataImage1D[i] ^ r\n",
    "\n",
    "    # passage de la 1D à la 2D\n",
    "    dataImageEncrypted = img1Dto2D(dataImageEncrypted, imSize)\n",
    "    return dataImageEncrypted\n",
    "    "
   ]
  }
 ],
 "metadata": {
  "kernelspec": {
   "display_name": "image_processing",
   "language": "python",
   "name": "python3"
  },
  "language_info": {
   "codemirror_mode": {
    "name": "ipython",
    "version": 3
   },
   "file_extension": ".py",
   "mimetype": "text/x-python",
   "name": "python",
   "nbconvert_exporter": "python",
   "pygments_lexer": "ipython3",
   "version": "3.9.15"
  },
  "vscode": {
   "interpreter": {
    "hash": "20dad14deff81da1b0513ac24c3ff1b108286e67bd70f198ceb351efc938c9c8"
   }
  }
 },
 "nbformat": 4,
 "nbformat_minor": 5
}
